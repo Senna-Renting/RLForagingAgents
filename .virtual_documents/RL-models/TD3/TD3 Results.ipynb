


from train_loops import wandb_train_td3, train_td3
import gymnasium as gym
import wandb 





wandb.login()
sweep_config = {
    'method': 'bayes'
}
metric = {
    'name': 'Average return',
    'goal': 'maximize'
}
parameters = {
    'lr_critic':{
        'distribution':'uniform',
        'min':0,
        'max': 1e-2
    },
    'lr_actor':{
        'distribution':'uniform',
        'min': 0,
        'max': 1e-2
    },
    'tau':{
        'distribution':'uniform',
        'min':0,
        'max':0.5
    },
    'sigma':{
        'distribution':'uniform',
        'min':0,
        'max':1
    },
    'noise_clip':{
        'distribution':'uniform',
        'min':0,
        'max':1
    },
    'gamma':{
        'distribution':'uniform',
        'min':0,
        'max':1
    },
    'policy_interval':{
        'value':2
    }, 
    'buffer_size':{
        'value':50000
    },
    'num_episodes':{
        'value':50
    }, 
    'max_length_episode':{
        'value':200
    },
    'batch_size':{
        'value':256
    }
}
sweep_config['parameters'] = parameters
sweep_config['metric'] = metric
sweep_id = wandb.sweep(sweep_config, project="Pendulum-TD3")





wandb.agent(sweep_id, wandb_train_td3, count=5)


# Test the model
env = gym.make("Pendulum-v1", render_mode="human")
gym_test_td3(env, model)
env.close()





from gym.wrappers import TimeLimit
env = TimeLimit(gym.make("Pendulum-v1"), max_episode_steps=200)
train_td3(env, 10, 256, 50000, 256)



