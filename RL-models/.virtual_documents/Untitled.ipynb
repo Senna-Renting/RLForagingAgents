


# Import code
import gymnasium as gym
import jax.numpy as jnp
from dqn import DQN
from run import train, test


# Run training for agent
actions = jnp.linspace(-2., 2., 3) # gives [-2.,0.,2.]
obs_dim = 3
h_layer_size = 16
layer_spec = [obs_dim] + [h_layer_size]*2 + [actions.shape[0]]
agent = DQN(layer_spec=layer_spec)
env = gym.make('Pendulum-v1', g=9.81)
rewards_train, losses, agent = train(env, agent)
rewards_test = test(env, agent)


# Plot results of agent
plt.figure()
plt.title("Rewards during training")
plt.plot(rewards_train)
plt.figure()
plt.title("Rewards during testing")
plt.plot(rewards_test)
