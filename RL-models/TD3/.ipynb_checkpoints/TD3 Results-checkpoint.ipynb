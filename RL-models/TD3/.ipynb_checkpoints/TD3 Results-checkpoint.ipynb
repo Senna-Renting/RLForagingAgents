{
 "cells": [
  {
   "cell_type": "markdown",
   "id": "ee65e15e-c33a-466a-bd6e-60d3e310fbcc",
   "metadata": {},
   "source": [
    "# TD3 Results when used on OpenAI's Pendulum-v1 environment"
   ]
  },
  {
   "cell_type": "code",
   "execution_count": 6,
   "id": "825c35a4-482e-4dcf-8e75-d4457e7f37e3",
   "metadata": {
    "editable": true,
    "slideshow": {
     "slide_type": ""
    },
    "tags": []
   },
   "outputs": [],
   "source": [
    "from train_loops import *\n",
    "import gymnasium as gym\n",
    "import wandb \n"
   ]
  },
  {
   "cell_type": "markdown",
   "id": "8f18e3c9-30d1-4d05-a998-1742f2ab30c8",
   "metadata": {
    "editable": true,
    "slideshow": {
     "slide_type": ""
    },
    "tags": []
   },
   "source": [
    "## Hyperparameters used (wandb setup)"
   ]
  },
  {
   "cell_type": "code",
   "execution_count": 8,
   "id": "1c6b1d7c-da4a-4fae-8b4a-6a64824506a7",
   "metadata": {
    "editable": true,
    "slideshow": {
     "slide_type": ""
    },
    "tags": []
   },
   "outputs": [
    {
     "name": "stderr",
     "output_type": "stream",
     "text": [
      "wandb: Using wandb-core as the SDK backend. Please refer to https://wandb.me/wandb-core for more information.\n",
      "wandb: Currently logged in as: senna-renting (senna-renting-radboud-university). Use `wandb login --relogin` to force relogin\n"
     ]
    },
    {
     "name": "stdout",
     "output_type": "stream",
     "text": [
      "Create sweep with ID: o35iimk6\n",
      "Sweep URL: https://wandb.ai/senna-renting-radboud-university/Pendulum-TD3/sweeps/o35iimk6\n"
     ]
    }
   ],
   "source": [
    "wandb.login()\n",
    "sweep_config = {\n",
    "    'method': 'bayes'\n",
    "}\n",
    "metric = {\n",
    "    'name': 'Average return',\n",
    "    'goal': 'maximize'\n",
    "}\n",
    "parameters = {\n",
    "    'lr_critic':{\n",
    "        'distribution':'uniform',\n",
    "        'min':1e-5,\n",
    "        'max': 2e-3\n",
    "    },\n",
    "    'lr_actor':{\n",
    "        'distribution':'uniform',\n",
    "        'min': 1e-5,\n",
    "        'max': 5e-4\n",
    "    },\n",
    "    'tau':{\n",
    "        'distribution':'uniform',\n",
    "        'min':0,\n",
    "        'max':0.1\n",
    "    },\n",
    "    'sigma':{\n",
    "        'distribution':'uniform',\n",
    "        'min':0.1,\n",
    "        'max':1\n",
    "    },\n",
    "    'sigma_explore':{\n",
    "        'distribution':'uniform',\n",
    "        'min':0.1,\n",
    "        'max':1\n",
    "    },\n",
    "    'noise_clip':{\n",
    "        'distribution':'uniform',\n",
    "        'min':0.1,\n",
    "        'max':2\n",
    "    },\n",
    "    'gamma':{\n",
    "        'value':0.99\n",
    "    },\n",
    "    'policy_interval':{\n",
    "        'value':2\n",
    "    }, \n",
    "    'buffer_size':{\n",
    "        'value':50000\n",
    "    },\n",
    "    'num_episodes':{\n",
    "        'value':100\n",
    "    }, \n",
    "    'max_length_episode':{\n",
    "        'value':200\n",
    "    },\n",
    "    'batch_size':{\n",
    "        'value':256\n",
    "    },\n",
    "    'warmup_amount':{\n",
    "        'value':10\n",
    "    }\n",
    "}\n",
    "sweep_config['parameters'] = parameters\n",
    "sweep_config['metric'] = metric\n",
    "sweep_id = wandb.sweep(sweep_config, project=\"Pendulum-TD3\")"
   ]
  },
  {
   "cell_type": "markdown",
   "id": "ced014df-6fbe-48fd-b518-fd1d496f6d55",
   "metadata": {
    "editable": true,
    "slideshow": {
     "slide_type": ""
    },
    "tags": []
   },
   "source": [
    "## Activate wandb sweep agent "
   ]
  },
  {
   "cell_type": "code",
   "execution_count": null,
   "id": "bd52ac9a-98f1-46c5-bdfc-93c9fd470ffd",
   "metadata": {
    "editable": true,
    "scrolled": true,
    "slideshow": {
     "slide_type": ""
    },
    "tags": []
   },
   "outputs": [
    {
     "name": "stderr",
     "output_type": "stream",
     "text": [
      "wandb: Agent Starting Run: jkzee3tj with config:\n",
      "wandb: \tbatch_size: 256\n",
      "wandb: \tbuffer_size: 50000\n",
      "wandb: \tgamma: 0.99\n",
      "wandb: \tlr_actor: 0.0004755500563723337\n",
      "wandb: \tlr_critic: 0.000561173550715831\n",
      "wandb: \tmax_length_episode: 200\n",
      "wandb: \tnoise_clip: 1.4676908416019383\n",
      "wandb: \tnum_episodes: 100\n",
      "wandb: \tpolicy_interval: 2\n",
      "wandb: \tsigma: 0.7973193538846707\n",
      "wandb: \tsigma_explore: 0.765581788144996\n",
      "wandb: \ttau: 0.07637355981110483\n",
      "wandb: \twarmup_amount: 100\n"
     ]
    },
    {
     "data": {
      "text/html": [
       "Tracking run with wandb version 0.18.3"
      ],
      "text/plain": [
       "<IPython.core.display.HTML object>"
      ]
     },
     "metadata": {},
     "output_type": "display_data"
    },
    {
     "data": {
      "text/html": [
       "Run data is saved locally in <code>C:\\Users\\31614\\Documents\\AI_course_stuff\\RLForaging Thesis\\RLForagingAgents\\RL-models\\TD3\\wandb\\run-20241023_182504-jkzee3tj</code>"
      ],
      "text/plain": [
       "<IPython.core.display.HTML object>"
      ]
     },
     "metadata": {},
     "output_type": "display_data"
    },
    {
     "data": {
      "text/html": [
       "Syncing run <strong><a href='https://wandb.ai/senna-renting-radboud-university/Pendulum-TD3/runs/jkzee3tj' target=\"_blank\">flowing-sweep-1</a></strong> to <a href='https://wandb.ai/senna-renting-radboud-university/Pendulum-TD3' target=\"_blank\">Weights & Biases</a> (<a href='https://wandb.me/run' target=\"_blank\">docs</a>)<br/>Sweep page: <a href='https://wandb.ai/senna-renting-radboud-university/Pendulum-TD3/sweeps/o35iimk6' target=\"_blank\">https://wandb.ai/senna-renting-radboud-university/Pendulum-TD3/sweeps/o35iimk6</a>"
      ],
      "text/plain": [
       "<IPython.core.display.HTML object>"
      ]
     },
     "metadata": {},
     "output_type": "display_data"
    },
    {
     "data": {
      "text/html": [
       " View project at <a href='https://wandb.ai/senna-renting-radboud-university/Pendulum-TD3' target=\"_blank\">https://wandb.ai/senna-renting-radboud-university/Pendulum-TD3</a>"
      ],
      "text/plain": [
       "<IPython.core.display.HTML object>"
      ]
     },
     "metadata": {},
     "output_type": "display_data"
    },
    {
     "data": {
      "text/html": [
       " View sweep at <a href='https://wandb.ai/senna-renting-radboud-university/Pendulum-TD3/sweeps/o35iimk6' target=\"_blank\">https://wandb.ai/senna-renting-radboud-university/Pendulum-TD3/sweeps/o35iimk6</a>"
      ],
      "text/plain": [
       "<IPython.core.display.HTML object>"
      ]
     },
     "metadata": {},
     "output_type": "display_data"
    },
    {
     "data": {
      "text/html": [
       " View run at <a href='https://wandb.ai/senna-renting-radboud-university/Pendulum-TD3/runs/jkzee3tj' target=\"_blank\">https://wandb.ai/senna-renting-radboud-university/Pendulum-TD3/runs/jkzee3tj</a>"
      ],
      "text/plain": [
       "<IPython.core.display.HTML object>"
      ]
     },
     "metadata": {},
     "output_type": "display_data"
    },
    {
     "data": {
      "application/vnd.jupyter.widget-view+json": {
       "model_id": "eca5df7d8d394012987eb84dbdd28d69",
       "version_major": 2,
       "version_minor": 0
      },
      "text/plain": [
       "VBox(children=(Label(value='0.009 MB of 0.009 MB uploaded\\r'), FloatProgress(value=1.0, max=1.0)))"
      ]
     },
     "metadata": {},
     "output_type": "display_data"
    },
    {
     "data": {
      "text/html": [
       "<style>\n",
       "    table.wandb td:nth-child(1) { padding: 0 10px; text-align: left ; width: auto;} td:nth-child(2) {text-align: left ; width: 100%}\n",
       "    .wandb-row { display: flex; flex-direction: row; flex-wrap: wrap; justify-content: flex-start; width: 100% }\n",
       "    .wandb-col { display: flex; flex-direction: column; flex-basis: 100%; flex: 1; padding: 10px; }\n",
       "    </style>\n",
       "<div class=\"wandb-row\"><div class=\"wandb-col\"><h3>Run history:</h3><br/><table class=\"wandb\"><tr><td>Actor average loss</td><td>▁▂▃▄▅▆▇▇▇▇▇▇▇▇▇█▇██▇████████████████████</td></tr><tr><td>Average return</td><td>▄▄█▅▅▄▄▄▃▄▃▄▃▃▃▄▃▂▃▃▁▃▃▅▂▃▃▂▆▂▃▂▆▂▅▃▃▄▆▃</td></tr><tr><td>Epoch</td><td>▁▁▁▂▂▂▂▂▃▃▃▃▃▃▃▄▄▄▅▅▅▅▅▆▆▆▆▆▆▇▇▇▇▇▇█████</td></tr><tr><td>Highest reward</td><td>████▇█▇▇▇▆▆▇▇▇▇▇▇▆▇▁▇▅▇▇▆▆▆▅▆▇▆█▇▆▆▆▆▆▇▆</td></tr><tr><td>Qnet1 average loss</td><td>▅▃▁▃▄▅▇▅▅▅▆▅▅▆▆▆▅▆▆▆▅▆▅▆▇▇▆▇▇▆▇█▇▇▇▇▇▇▇█</td></tr><tr><td>Qnet2 average loss</td><td>▁▅▃▄▆▆▅▅▆▅▆▆▅▆▅▅▅▆▅▆▆▅▆▅▆▆▇▇█▆▆▇▇▇▇▇█▇▇▆</td></tr></table><br/></div><div class=\"wandb-col\"><h3>Run summary:</h3><br/><table class=\"wandb\"><tr><td>Actor average loss</td><td>7.29138</td></tr><tr><td>Average return</td><td>-7.74478</td></tr><tr><td>Epoch</td><td>100</td></tr><tr><td>Highest reward</td><td>-0.96039</td></tr><tr><td>Qnet1 average loss</td><td>0.30314</td></tr><tr><td>Qnet2 average loss</td><td>0.29926</td></tr></table><br/></div></div>"
      ],
      "text/plain": [
       "<IPython.core.display.HTML object>"
      ]
     },
     "metadata": {},
     "output_type": "display_data"
    },
    {
     "data": {
      "text/html": [
       " View run <strong style=\"color:#cdcd00\">flowing-sweep-1</strong> at: <a href='https://wandb.ai/senna-renting-radboud-university/Pendulum-TD3/runs/jkzee3tj' target=\"_blank\">https://wandb.ai/senna-renting-radboud-university/Pendulum-TD3/runs/jkzee3tj</a><br/> View project at: <a href='https://wandb.ai/senna-renting-radboud-university/Pendulum-TD3' target=\"_blank\">https://wandb.ai/senna-renting-radboud-university/Pendulum-TD3</a><br/>Synced 5 W&B file(s), 0 media file(s), 0 artifact file(s) and 0 other file(s)"
      ],
      "text/plain": [
       "<IPython.core.display.HTML object>"
      ]
     },
     "metadata": {},
     "output_type": "display_data"
    },
    {
     "data": {
      "text/html": [
       "Find logs at: <code>.\\wandb\\run-20241023_182504-jkzee3tj\\logs</code>"
      ],
      "text/plain": [
       "<IPython.core.display.HTML object>"
      ]
     },
     "metadata": {},
     "output_type": "display_data"
    },
    {
     "name": "stderr",
     "output_type": "stream",
     "text": [
      "wandb: Agent Starting Run: iktdwvn8 with config:\n",
      "wandb: \tbatch_size: 256\n",
      "wandb: \tbuffer_size: 50000\n",
      "wandb: \tgamma: 0.99\n",
      "wandb: \tlr_actor: 8.563448642302808e-05\n",
      "wandb: \tlr_critic: 0.0017036102254398638\n",
      "wandb: \tmax_length_episode: 200\n",
      "wandb: \tnoise_clip: 1.0738948935126578\n",
      "wandb: \tnum_episodes: 100\n",
      "wandb: \tpolicy_interval: 2\n",
      "wandb: \tsigma: 0.8935491535780713\n",
      "wandb: \tsigma_explore: 0.16294230068778875\n",
      "wandb: \ttau: 0.0023819010155006317\n",
      "wandb: \twarmup_amount: 100\n"
     ]
    },
    {
     "data": {
      "text/html": [
       "Tracking run with wandb version 0.18.3"
      ],
      "text/plain": [
       "<IPython.core.display.HTML object>"
      ]
     },
     "metadata": {},
     "output_type": "display_data"
    },
    {
     "data": {
      "text/html": [
       "Run data is saved locally in <code>C:\\Users\\31614\\Documents\\AI_course_stuff\\RLForaging Thesis\\RLForagingAgents\\RL-models\\TD3\\wandb\\run-20241023_185023-iktdwvn8</code>"
      ],
      "text/plain": [
       "<IPython.core.display.HTML object>"
      ]
     },
     "metadata": {},
     "output_type": "display_data"
    },
    {
     "data": {
      "text/html": [
       "Syncing run <strong><a href='https://wandb.ai/senna-renting-radboud-university/Pendulum-TD3/runs/iktdwvn8' target=\"_blank\">flowing-sweep-2</a></strong> to <a href='https://wandb.ai/senna-renting-radboud-university/Pendulum-TD3' target=\"_blank\">Weights & Biases</a> (<a href='https://wandb.me/run' target=\"_blank\">docs</a>)<br/>Sweep page: <a href='https://wandb.ai/senna-renting-radboud-university/Pendulum-TD3/sweeps/o35iimk6' target=\"_blank\">https://wandb.ai/senna-renting-radboud-university/Pendulum-TD3/sweeps/o35iimk6</a>"
      ],
      "text/plain": [
       "<IPython.core.display.HTML object>"
      ]
     },
     "metadata": {},
     "output_type": "display_data"
    },
    {
     "data": {
      "text/html": [
       " View project at <a href='https://wandb.ai/senna-renting-radboud-university/Pendulum-TD3' target=\"_blank\">https://wandb.ai/senna-renting-radboud-university/Pendulum-TD3</a>"
      ],
      "text/plain": [
       "<IPython.core.display.HTML object>"
      ]
     },
     "metadata": {},
     "output_type": "display_data"
    },
    {
     "data": {
      "text/html": [
       " View sweep at <a href='https://wandb.ai/senna-renting-radboud-university/Pendulum-TD3/sweeps/o35iimk6' target=\"_blank\">https://wandb.ai/senna-renting-radboud-university/Pendulum-TD3/sweeps/o35iimk6</a>"
      ],
      "text/plain": [
       "<IPython.core.display.HTML object>"
      ]
     },
     "metadata": {},
     "output_type": "display_data"
    },
    {
     "data": {
      "text/html": [
       " View run at <a href='https://wandb.ai/senna-renting-radboud-university/Pendulum-TD3/runs/iktdwvn8' target=\"_blank\">https://wandb.ai/senna-renting-radboud-university/Pendulum-TD3/runs/iktdwvn8</a>"
      ],
      "text/plain": [
       "<IPython.core.display.HTML object>"
      ]
     },
     "metadata": {},
     "output_type": "display_data"
    }
   ],
   "source": [
    "wandb.agent(sweep_id, wandb_train_td3, count=5)"
   ]
  },
  {
   "cell_type": "markdown",
   "id": "88fae6b4-886a-4a32-b958-0a2fd3c719b4",
   "metadata": {
    "editable": true,
    "slideshow": {
     "slide_type": ""
    },
    "tags": []
   },
   "source": [
    "# Regular non-wandb run"
   ]
  },
  {
   "cell_type": "code",
   "execution_count": null,
   "id": "391bdd1e-4413-49a2-be5e-374ac02253ee",
   "metadata": {},
   "outputs": [],
   "source": [
    "from gym.wrappers import TimeLimit\n",
    "env = TimeLimit(gym.make(\"Pendulum-v1\"), max_episode_steps=40)\n",
    "num_episodes = 50\n",
    "batch_size = 256\n",
    "buffer_size = 50000\n",
    "warmup_steps = 0\n",
    "train_td3(env, num_episodes, batch_size, buffer_size, warmup_steps, policy_interval=2, gamma=0.96, lr_P=0.0056, lr_Q=0.0095, noise_clip=0.61, sigma=0.94, tau=0.45)"
   ]
  },
  {
   "cell_type": "markdown",
   "id": "ffa6615e-c7ac-4652-bb6b-4a0e83a1afaa",
   "metadata": {},
   "source": [
    "# Random run average return"
   ]
  },
  {
   "cell_type": "code",
   "execution_count": 10,
   "id": "79d2e53c-e6e6-48fd-89dc-0764e78f0d9a",
   "metadata": {},
   "outputs": [
    {
     "name": "stdout",
     "output_type": "stream",
     "text": [
      "Average return over 10 episodes:  -6.176537942057198\n"
     ]
    }
   ],
   "source": [
    "print(\"Average return over 10 episodes: \", random_run(1000, seed=13, max_length_episodes=200))"
   ]
  },
  {
   "cell_type": "markdown",
   "id": "ac287908-21c1-4fe8-9863-f16b1d2b9b69",
   "metadata": {},
   "source": [
    "# Test a model"
   ]
  },
  {
   "cell_type": "code",
   "execution_count": 4,
   "id": "ae499073-85b7-459f-9803-1541c347ce26",
   "metadata": {},
   "outputs": [
    {
     "name": "stderr",
     "output_type": "stream",
     "text": [
      "C:\\Users\\31614\\anaconda3\\Lib\\site-packages\\orbax\\checkpoint\\type_handlers.py:1372: UserWarning: Couldn't find sharding info under RestoreArgs. Populating sharding info from sharding file. Please note restoration time will be slightly increased due to reading from file instead of directly from RestoreArgs. Note also that this option is unsafe when restoring on a different topology than the checkpoint was saved with.\n",
      "  warnings.warn(\n"
     ]
    }
   ],
   "source": [
    "wandb_code = \"i4073qge/floral-sweep-1\" # pattern: sweep_id/run_name\n",
    "wandb_test_saved_td3(wandb_code)"
   ]
  },
  {
   "cell_type": "code",
   "execution_count": null,
   "id": "7e9c03f7-bac7-40e2-b57c-4bdffa5e03fd",
   "metadata": {},
   "outputs": [],
   "source": []
  }
 ],
 "metadata": {
  "kernelspec": {
   "display_name": "Python 3 (ipykernel)",
   "language": "python",
   "name": "python3"
  },
  "language_info": {
   "codemirror_mode": {
    "name": "ipython",
    "version": 3
   },
   "file_extension": ".py",
   "mimetype": "text/x-python",
   "name": "python",
   "nbconvert_exporter": "python",
   "pygments_lexer": "ipython3",
   "version": "3.12.4"
  }
 },
 "nbformat": 4,
 "nbformat_minor": 5
}
