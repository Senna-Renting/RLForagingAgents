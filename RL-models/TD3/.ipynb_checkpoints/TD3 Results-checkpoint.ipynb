{
 "cells": [
  {
   "cell_type": "markdown",
   "id": "ee65e15e-c33a-466a-bd6e-60d3e310fbcc",
   "metadata": {},
   "source": [
    "# TD3 Results when used on OpenAI's Pendulum-v1 environment"
   ]
  },
  {
   "cell_type": "markdown",
   "id": "8f18e3c9-30d1-4d05-a998-1742f2ab30c8",
   "metadata": {},
   "source": [
    "## Hyperparameters used"
   ]
  },
  {
   "cell_type": "code",
   "execution_count": null,
   "id": "1c6b1d7c-da4a-4fae-8b4a-6a64824506a7",
   "metadata": {},
   "outputs": [],
   "source": [
    "# Code here..."
   ]
  },
  {
   "cell_type": "markdown",
   "id": "ced014df-6fbe-48fd-b518-fd1d496f6d55",
   "metadata": {},
   "source": [
    "## Return trend\n",
    "\n",
    "Below I will plot the trend of the return across increasing episodes, averaged over multiple independently trained agents (with the same hyperparameters)"
   ]
  },
  {
   "cell_type": "code",
   "execution_count": null,
   "id": "bd52ac9a-98f1-46c5-bdfc-93c9fd470ffd",
   "metadata": {},
   "outputs": [],
   "source": [
    "# Code here ..."
   ]
  }
 ],
 "metadata": {
  "kernelspec": {
   "display_name": "Python 3 (ipykernel)",
   "language": "python",
   "name": "python3"
  },
  "language_info": {
   "codemirror_mode": {
    "name": "ipython",
    "version": 3
   },
   "file_extension": ".py",
   "mimetype": "text/x-python",
   "name": "python",
   "nbconvert_exporter": "python",
   "pygments_lexer": "ipython3",
   "version": "3.12.4"
  }
 },
 "nbformat": 4,
 "nbformat_minor": 5
}
