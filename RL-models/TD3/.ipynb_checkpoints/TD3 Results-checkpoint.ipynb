{
 "cells": [
  {
   "cell_type": "markdown",
   "id": "ee65e15e-c33a-466a-bd6e-60d3e310fbcc",
   "metadata": {},
   "source": [
    "# TD3 Results when used on OpenAI's Pendulum-v1 environment"
   ]
  },
  {
   "cell_type": "code",
   "execution_count": 2,
   "id": "825c35a4-482e-4dcf-8e75-d4457e7f37e3",
   "metadata": {
    "editable": true,
    "slideshow": {
     "slide_type": ""
    },
    "tags": []
   },
   "outputs": [],
   "source": [
    "from train_loops import gym_train_td3, gym_test_td3\n",
    "import matplotlib.pyplot as plt\n",
    "import gymnasium as gym\n",
    "from gym.wrappers import TimeLimit\n",
    "env = TimeLimit(gym.make(\"Pendulum-v1\"), max_episode_steps=300)"
   ]
  },
  {
   "cell_type": "markdown",
   "id": "8f18e3c9-30d1-4d05-a998-1742f2ab30c8",
   "metadata": {
    "editable": true,
    "slideshow": {
     "slide_type": ""
    },
    "tags": []
   },
   "source": [
    "## Hyperparameters used"
   ]
  },
  {
   "cell_type": "code",
   "execution_count": 5,
   "id": "1c6b1d7c-da4a-4fae-8b4a-6a64824506a7",
   "metadata": {
    "editable": true,
    "slideshow": {
     "slide_type": ""
    },
    "tags": []
   },
   "outputs": [],
   "source": [
    "policy_args = {\n",
    "    \"lr\": 3e-4,\n",
    "    \"sigma\": 1.0,\n",
    "    \"noise_clip\": 0.7,\n",
    "    \"policy_interval\": 2,\n",
    "    \"tau\": 0.005,\n",
    "    \"gamma\": 0.99\n",
    "}"
   ]
  },
  {
   "cell_type": "markdown",
   "id": "ced014df-6fbe-48fd-b518-fd1d496f6d55",
   "metadata": {
    "editable": true,
    "slideshow": {
     "slide_type": ""
    },
    "tags": []
   },
   "source": [
    "## Return trend\n",
    "\n",
    "Below I will plot the trend of the return across increasing episodes, averaged over multiple independently trained agents (with the same hyperparameters)"
   ]
  },
  {
   "cell_type": "code",
   "execution_count": null,
   "id": "bd52ac9a-98f1-46c5-bdfc-93c9fd470ffd",
   "metadata": {
    "editable": true,
    "slideshow": {
     "slide_type": ""
    },
    "tags": []
   },
   "outputs": [
    {
     "name": "stdout",
     "output_type": "stream",
     "text": [
      "0.0003\n"
     ]
    }
   ],
   "source": [
    "# Get trained model and obtained results\n",
    "num_episodes = 30\n",
    "batch_size = 128\n",
    "buffer_size = 50000\n",
    "warmup_amount = 300\n",
    "model, avg_returns, loss_Q1, loss_Q2, loss_actor = gym_train_td3(env, num_episodes, batch_size, buffer_size, warmup_amount, **policy_args)\n",
    "episodes = range(1,len(avg_returns)+1)"
   ]
  },
  {
   "cell_type": "code",
   "execution_count": null,
   "id": "ab719fb6-23b8-4e62-b626-f722c7db83e7",
   "metadata": {
    "editable": true,
    "slideshow": {
     "slide_type": ""
    },
    "tags": []
   },
   "outputs": [],
   "source": [
    "# Plot the results of training\n",
    "plt.figure()\n",
    "plt.title(\"Return plot TD3 policy on Pendulum-v1 task\")\n",
    "plt.plot(episodes, avg_returns)\n",
    "plt.xlabel(\"Episodes\")\n",
    "plt.ylabel(\"Avg return\")\n",
    "\n",
    "plt.figure()\n",
    "plt.title(\"Loss of Q1 on Pendulum-v1 task\")\n",
    "plt.plot(episodes, loss_Q1)\n",
    "plt.xlabel(\"Episodes\")\n",
    "plt.ylabel(\"Loss(Q1)\")\n",
    "\n",
    "plt.figure()\n",
    "plt.title(\"Loss of Q2 on Pendulum-v1 task\")\n",
    "plt.plot(episodes, loss_Q2)\n",
    "plt.xlabel(\"Episodes\")\n",
    "plt.ylabel(\"Loss(Q2)\")\n",
    "\n",
    "plt.figure()\n",
    "plt.title(\"Loss of Actor on Pendulum-v1 task\")\n",
    "plt.plot(episodes, loss_actor)\n",
    "plt.xlabel(\"Episodes\")\n",
    "plt.ylabel(\"Loss(Actor)\")"
   ]
  },
  {
   "cell_type": "code",
   "execution_count": 46,
   "id": "c88f69de-ecb9-4d66-b1c3-447f153c72af",
   "metadata": {
    "editable": true,
    "slideshow": {
     "slide_type": ""
    },
    "tags": []
   },
   "outputs": [],
   "source": [
    "# Test the model\n",
    "env = gym.make(\"Pendulum-v1\", render_mode=\"human\")\n",
    "gym_test_td3(env, model)\n",
    "env.close()"
   ]
  },
  {
   "cell_type": "code",
   "execution_count": null,
   "id": "90cd33dc-83fa-4305-a5da-e6fc21378805",
   "metadata": {
    "editable": true,
    "slideshow": {
     "slide_type": ""
    },
    "tags": []
   },
   "outputs": [],
   "source": []
  }
 ],
 "metadata": {
  "kernelspec": {
   "display_name": "Python 3 (ipykernel)",
   "language": "python",
   "name": "python3"
  },
  "language_info": {
   "codemirror_mode": {
    "name": "ipython",
    "version": 3
   },
   "file_extension": ".py",
   "mimetype": "text/x-python",
   "name": "python",
   "nbconvert_exporter": "python",
   "pygments_lexer": "ipython3",
   "version": "3.12.4"
  }
 },
 "nbformat": 4,
 "nbformat_minor": 5
}
