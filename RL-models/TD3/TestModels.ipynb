{
 "cells": [
  {
   "cell_type": "code",
   "execution_count": 34,
   "id": "532ff2a0-98be-41ab-9f9b-f1e5b826dc6c",
   "metadata": {},
   "outputs": [],
   "source": [
    "from train_loops import wandb_test_saved_td3\n",
    "wandb_code = \"noo20cvb/unique-sweep-1\" # pattern: sweep_id/run_name\n",
    "wandb_test_saved_td3(wandb_code)"
   ]
  },
  {
   "cell_type": "code",
   "execution_count": null,
   "id": "1257912b-2e7e-4564-abbd-4d790562fedd",
   "metadata": {},
   "outputs": [],
   "source": []
  }
 ],
 "metadata": {
  "kernelspec": {
   "display_name": "Python 3 (ipykernel)",
   "language": "python",
   "name": "python3"
  },
  "language_info": {
   "codemirror_mode": {
    "name": "ipython",
    "version": 3
   },
   "file_extension": ".py",
   "mimetype": "text/x-python",
   "name": "python",
   "nbconvert_exporter": "python",
   "pygments_lexer": "ipython3",
   "version": "3.12.4"
  }
 },
 "nbformat": 4,
 "nbformat_minor": 5
}
