import matplotlib.pyplot as plt


fig = plt.figure()
fig.add_axes([0,0,1,1])
ax = fig.add_axes([0.5,0.5,0.3,0.1])
ax.set_ylim([0,10])
ax.plot([10,10,10,9,3,5,8])



