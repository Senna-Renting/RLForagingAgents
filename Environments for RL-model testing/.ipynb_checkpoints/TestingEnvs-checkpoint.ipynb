{
 "cells": [
  {
   "cell_type": "markdown",
   "id": "ff31c55c-0640-406b-9fc9-49da4ef4cd97",
   "metadata": {},
   "source": [
    "# Testing Environments\n",
    "As OpenAI has a lot of environments ready to use for testing RL-models, I will be using their library (openaigym) to test my JAX RL-models. The main purpose of this notebook is to play around a little with the environments. Figure out how they work, and after that is established we can start testing models"
   ]
  },
  {
   "cell_type": "code",
   "execution_count": 1,
   "id": "21ffe637-a4ba-4fcd-b928-e7bfd3c1f1b9",
   "metadata": {},
   "outputs": [
    {
     "name": "stdout",
     "output_type": "stream",
     "text": [
      "Requirement already satisfied: jax in c:\\users\\31614\\anaconda3\\lib\\site-packages (0.4.30)\n",
      "Requirement already satisfied: jaxlib<=0.4.30,>=0.4.27 in c:\\users\\31614\\anaconda3\\lib\\site-packages (from jax) (0.4.30)\n",
      "Requirement already satisfied: ml-dtypes>=0.2.0 in c:\\users\\31614\\anaconda3\\lib\\site-packages (from jax) (0.4.1)\n",
      "Requirement already satisfied: numpy>=1.22 in c:\\users\\31614\\anaconda3\\lib\\site-packages (from jax) (1.22.4)\n",
      "Requirement already satisfied: opt-einsum in c:\\users\\31614\\anaconda3\\lib\\site-packages (from jax) (3.3.0)\n",
      "Requirement already satisfied: scipy>=1.9 in c:\\users\\31614\\anaconda3\\lib\\site-packages (from jax) (1.13.1)\n",
      "Requirement already satisfied: importlib-metadata>=4.6 in c:\\users\\31614\\anaconda3\\lib\\site-packages (from jax) (6.8.0)\n",
      "Requirement already satisfied: zipp>=0.5 in c:\\users\\31614\\anaconda3\\lib\\site-packages (from importlib-metadata>=4.6->jax) (3.6.0)\n"
     ]
    },
    {
     "name": "stderr",
     "output_type": "stream",
     "text": [
      "DEPRECATION: pyodbc 4.0.0-unsupported has a non-standard version number. pip 24.1 will enforce this behaviour change. A possible replacement is to upgrade to a newer version of pyodbc or contact the author to suggest that they release a version with a conforming version number. Discussion can be found at https://github.com/pypa/pip/issues/12063\n",
      "\n",
      "[notice] A new release of pip is available: 24.0 -> 24.2\n",
      "[notice] To update, run: python.exe -m pip install --upgrade pip\n",
      "DEPRECATION: pyodbc 4.0.0-unsupported has a non-standard version number. pip 24.1 will enforce this behaviour change. A possible replacement is to upgrade to a newer version of pyodbc or contact the author to suggest that they release a version with a conforming version number. Discussion can be found at https://github.com/pypa/pip/issues/12063\n",
      "\n",
      "[notice] A new release of pip is available: 24.0 -> 24.2\n",
      "[notice] To update, run: python.exe -m pip install --upgrade pip\n"
     ]
    },
    {
     "name": "stdout",
     "output_type": "stream",
     "text": [
      "Requirement already satisfied: gymnasium[mujoco] in c:\\users\\31614\\anaconda3\\lib\\site-packages (0.29.1)\n",
      "Requirement already satisfied: numpy>=1.21.0 in c:\\users\\31614\\anaconda3\\lib\\site-packages (from gymnasium[mujoco]) (1.22.4)\n",
      "Requirement already satisfied: cloudpickle>=1.2.0 in c:\\users\\31614\\anaconda3\\lib\\site-packages (from gymnasium[mujoco]) (2.0.0)\n",
      "Requirement already satisfied: typing-extensions>=4.3.0 in c:\\users\\31614\\anaconda3\\lib\\site-packages (from gymnasium[mujoco]) (4.12.2)\n",
      "Requirement already satisfied: farama-notifications>=0.0.1 in c:\\users\\31614\\anaconda3\\lib\\site-packages (from gymnasium[mujoco]) (0.0.4)\n",
      "Requirement already satisfied: importlib-metadata>=4.8.0 in c:\\users\\31614\\anaconda3\\lib\\site-packages (from gymnasium[mujoco]) (6.8.0)\n",
      "Requirement already satisfied: mujoco>=2.3.3 in c:\\users\\31614\\anaconda3\\lib\\site-packages (from gymnasium[mujoco]) (3.2.2)\n",
      "Requirement already satisfied: imageio>=2.14.1 in c:\\users\\31614\\anaconda3\\lib\\site-packages (from gymnasium[mujoco]) (2.35.1)\n",
      "Requirement already satisfied: pillow>=8.3.2 in c:\\users\\31614\\anaconda3\\lib\\site-packages (from imageio>=2.14.1->gymnasium[mujoco]) (10.4.0)\n",
      "Requirement already satisfied: zipp>=0.5 in c:\\users\\31614\\anaconda3\\lib\\site-packages (from importlib-metadata>=4.8.0->gymnasium[mujoco]) (3.6.0)\n",
      "Requirement already satisfied: absl-py in c:\\users\\31614\\anaconda3\\lib\\site-packages (from mujoco>=2.3.3->gymnasium[mujoco]) (2.1.0)\n",
      "Requirement already satisfied: etils[epath] in c:\\users\\31614\\anaconda3\\lib\\site-packages (from mujoco>=2.3.3->gymnasium[mujoco]) (1.5.2)\n",
      "Requirement already satisfied: glfw in c:\\users\\31614\\anaconda3\\lib\\site-packages (from mujoco>=2.3.3->gymnasium[mujoco]) (2.7.0)\n",
      "Requirement already satisfied: pyopengl in c:\\users\\31614\\anaconda3\\lib\\site-packages (from mujoco>=2.3.3->gymnasium[mujoco]) (3.1.7)\n",
      "Requirement already satisfied: fsspec in c:\\users\\31614\\anaconda3\\lib\\site-packages (from etils[epath]->mujoco>=2.3.3->gymnasium[mujoco]) (2021.10.1)\n",
      "Requirement already satisfied: importlib_resources in c:\\users\\31614\\anaconda3\\lib\\site-packages (from etils[epath]->mujoco>=2.3.3->gymnasium[mujoco]) (6.4.5)\n"
     ]
    }
   ],
   "source": [
    "# Import libraries\n",
    "!pip install -U jax\n",
    "!pip install gymnasium[mujoco]\n",
    "import jax.numpy as jnp\n",
    "import gymnasium as gym"
   ]
  },
  {
   "cell_type": "markdown",
   "id": "88dc975f-d2f6-4cf6-bedd-ac7463c6b13c",
   "metadata": {
    "tags": []
   },
   "source": [
    "## Test Inverted Pendulum Environment Mechanics\n",
    "\n",
    "This an OpenAI gym environment that I will use to figure out how well my RL-models perform. Below I will put an API cheatsheet in terms of methods that can be used to manipulate the environment.\n",
    "\n",
    "- reset() : Resets the environment to an initial state. Needed before we can make any steps.\n",
    "- step(action) : Using an action vector the environment is updated. Returns the following tuple (observation, reward, terminated, truncated, info, done)\n",
    "- render() : Renders the environment so that the user now sees the environment visually\n",
    "- close() : Closes the environment. Needed when external software is used.\n",
    "\n",
    "To see more interesting methods and attributes of the API use the following link: https://gymnasium.farama.org/api/env/"
   ]
  },
  {
   "cell_type": "code",
   "execution_count": 2,
   "id": "a22689fb-c198-4ee6-bd1d-c5ceb76171cc",
   "metadata": {},
   "outputs": [],
   "source": [
    "# Import inverted pendulum model\n",
    "env = gym.make('InvertedPendulum-v4')"
   ]
  },
  {
   "cell_type": "code",
   "execution_count": null,
   "id": "4ba630d4-fc47-49ce-aa33-9dc9f67a1664",
   "metadata": {},
   "outputs": [],
   "source": []
  }
 ],
 "metadata": {
  "kernelspec": {
   "display_name": "Python 3 (ipykernel)",
   "language": "python",
   "name": "python3"
  },
  "language_info": {
   "codemirror_mode": {
    "name": "ipython",
    "version": 3
   },
   "file_extension": ".py",
   "mimetype": "text/x-python",
   "name": "python",
   "nbconvert_exporter": "python",
   "pygments_lexer": "ipython3",
   "version": "3.9.7"
  }
 },
 "nbformat": 4,
 "nbformat_minor": 5
}
