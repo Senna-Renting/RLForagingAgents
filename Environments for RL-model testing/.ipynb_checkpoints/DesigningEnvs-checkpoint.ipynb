{
 "cells": [
  {
   "cell_type": "markdown",
   "id": "ff31c55c-0640-406b-9fc9-49da4ef4cd97",
   "metadata": {},
   "source": [
    "# Designing environments\n",
    "\n",
    "This jupyter notebook is dedicated to creating simplistic environments that can be used to train RL-models in. I will create a separate python module for these environments once they are ready to be used."
   ]
  },
  {
   "cell_type": "code",
   "execution_count": 1,
   "id": "21ffe637-a4ba-4fcd-b928-e7bfd3c1f1b9",
   "metadata": {},
   "outputs": [],
   "source": [
    "# Import libraries\n",
    "import numpy as np"
   ]
  },
  {
   "cell_type": "markdown",
   "id": "88dc975f-d2f6-4cf6-bedd-ac7463c6b13c",
   "metadata": {
    "tags": []
   },
   "source": [
    "## A to B continuous world\n",
    "\n",
    "This is an environment where the agent is supposed to walk from A to B in a straight line."
   ]
  },
  {
   "cell_type": "code",
   "execution_count": 3,
   "id": "7e595a02-a317-4d02-82b3-76ab7d45058f",
   "metadata": {},
   "outputs": [],
   "source": [
    "class AToBEnvironment:\n",
    "    def __init__(self, width=10, height=10, A_loc=np.array([5,5]), B_loc=np.array([1,9]), radius=1):\n",
    "        self.width = width\n",
    "        self.height = height\n",
    "        self.A_loc = A_loc\n",
    "        self.B_loc = B_loc\n",
    "        self.radius = radius\n",
    "    def get_reward(self,X):\n",
    "        \"\"\"\n",
    "        The reward is sparse, 0 when not close to the target and 1 when you arrive at the target\n",
    "        \"\"\"\n",
    "        return np.sqrt((self.B_loc-X)**2) < self.radius\n",
    "    def get_start_pos(self):\n",
    "        return self.A_loc\n",
    "        "
   ]
  },
  {
   "cell_type": "code",
   "execution_count": 4,
   "id": "a22689fb-c198-4ee6-bd1d-c5ceb76171cc",
   "metadata": {},
   "outputs": [
    {
     "ename": "NameError",
     "evalue": "name 'B_loc' is not defined",
     "output_type": "error",
     "traceback": [
      "\u001b[1;31m---------------------------------------------------------------------------\u001b[0m",
      "\u001b[1;31mNameError\u001b[0m                                 Traceback (most recent call last)",
      "\u001b[1;32m~\\AppData\\Local\\Temp/ipykernel_7156/2604798669.py\u001b[0m in \u001b[0;36m<module>\u001b[1;34m\u001b[0m\n\u001b[0;32m      1\u001b[0m \u001b[1;31m# Test A-to-B-environment\u001b[0m\u001b[1;33m\u001b[0m\u001b[1;33m\u001b[0m\u001b[0m\n\u001b[0;32m      2\u001b[0m \u001b[0menv\u001b[0m \u001b[1;33m=\u001b[0m \u001b[0mAToBEnvironment\u001b[0m\u001b[1;33m(\u001b[0m\u001b[1;33m)\u001b[0m\u001b[1;33m\u001b[0m\u001b[1;33m\u001b[0m\u001b[0m\n\u001b[1;32m----> 3\u001b[1;33m \u001b[0mreward_check\u001b[0m \u001b[1;33m=\u001b[0m \u001b[0menv\u001b[0m\u001b[1;33m.\u001b[0m\u001b[0mget_reward\u001b[0m\u001b[1;33m(\u001b[0m\u001b[0mnp\u001b[0m\u001b[1;33m.\u001b[0m\u001b[0marray\u001b[0m\u001b[1;33m(\u001b[0m\u001b[1;33m[\u001b[0m\u001b[1;36m1\u001b[0m\u001b[1;33m,\u001b[0m\u001b[1;36m8.5\u001b[0m\u001b[1;33m]\u001b[0m\u001b[1;33m)\u001b[0m\u001b[1;33m)\u001b[0m \u001b[1;33m==\u001b[0m \u001b[1;36m1\u001b[0m \u001b[1;32mand\u001b[0m \u001b[0menv\u001b[0m\u001b[1;33m.\u001b[0m\u001b[0mget_reward\u001b[0m\u001b[1;33m(\u001b[0m\u001b[0mnp\u001b[0m\u001b[1;33m.\u001b[0m\u001b[0marray\u001b[0m\u001b[1;33m(\u001b[0m\u001b[1;33m[\u001b[0m\u001b[1;36m1\u001b[0m\u001b[1;33m,\u001b[0m\u001b[1;36m7.5\u001b[0m\u001b[1;33m]\u001b[0m\u001b[1;33m)\u001b[0m\u001b[1;33m)\u001b[0m \u001b[1;33m==\u001b[0m \u001b[1;36m0\u001b[0m\u001b[1;33m\u001b[0m\u001b[1;33m\u001b[0m\u001b[0m\n\u001b[0m\u001b[0;32m      4\u001b[0m \u001b[0mprint\u001b[0m\u001b[1;33m(\u001b[0m\u001b[1;34mf\"Does reward method work? {reward_check}\"\u001b[0m\u001b[1;33m)\u001b[0m\u001b[1;33m\u001b[0m\u001b[1;33m\u001b[0m\u001b[0m\n",
      "\u001b[1;32m~\\AppData\\Local\\Temp/ipykernel_7156/1725543618.py\u001b[0m in \u001b[0;36mget_reward\u001b[1;34m(self, X)\u001b[0m\n\u001b[0;32m     10\u001b[0m         \u001b[0mThe\u001b[0m \u001b[0mreward\u001b[0m \u001b[1;32mis\u001b[0m \u001b[0msparse\u001b[0m\u001b[1;33m,\u001b[0m \u001b[1;36m0\u001b[0m \u001b[0mwhen\u001b[0m \u001b[1;32mnot\u001b[0m \u001b[0mclose\u001b[0m \u001b[0mto\u001b[0m \u001b[0mthe\u001b[0m \u001b[0mtarget\u001b[0m \u001b[1;32mand\u001b[0m \u001b[1;36m1\u001b[0m \u001b[0mwhen\u001b[0m \u001b[0myou\u001b[0m \u001b[0marrive\u001b[0m \u001b[0mat\u001b[0m \u001b[0mthe\u001b[0m \u001b[0mtarget\u001b[0m\u001b[1;33m\u001b[0m\u001b[1;33m\u001b[0m\u001b[0m\n\u001b[0;32m     11\u001b[0m         \"\"\"\n\u001b[1;32m---> 12\u001b[1;33m         \u001b[1;32mreturn\u001b[0m \u001b[0mnp\u001b[0m\u001b[1;33m.\u001b[0m\u001b[0msqrt\u001b[0m\u001b[1;33m(\u001b[0m\u001b[1;33m(\u001b[0m\u001b[0mB_loc\u001b[0m\u001b[1;33m-\u001b[0m\u001b[0mX\u001b[0m\u001b[1;33m)\u001b[0m\u001b[1;33m**\u001b[0m\u001b[1;36m2\u001b[0m\u001b[1;33m)\u001b[0m \u001b[1;33m<\u001b[0m \u001b[0mself\u001b[0m\u001b[1;33m.\u001b[0m\u001b[0mradius\u001b[0m\u001b[1;33m\u001b[0m\u001b[1;33m\u001b[0m\u001b[0m\n\u001b[0m\u001b[0;32m     13\u001b[0m     \u001b[1;32mdef\u001b[0m \u001b[0mget_start_pos\u001b[0m\u001b[1;33m(\u001b[0m\u001b[0mself\u001b[0m\u001b[1;33m)\u001b[0m\u001b[1;33m:\u001b[0m\u001b[1;33m\u001b[0m\u001b[1;33m\u001b[0m\u001b[0m\n\u001b[0;32m     14\u001b[0m         \u001b[1;32mreturn\u001b[0m \u001b[0mself\u001b[0m\u001b[1;33m.\u001b[0m\u001b[0mA_loc\u001b[0m\u001b[1;33m\u001b[0m\u001b[1;33m\u001b[0m\u001b[0m\n",
      "\u001b[1;31mNameError\u001b[0m: name 'B_loc' is not defined"
     ]
    }
   ],
   "source": [
    "# Test A-to-B-environment\n",
    "env = AToBEnvironment()\n",
    "reward_check = env.get_reward(np.array([1,8.5])) == 1 and env.get_reward(np.array([1,7.5])) == 0\n",
    "print(f\"Does reward method work? {reward_check}\")"
   ]
  },
  {
   "cell_type": "code",
   "execution_count": null,
   "id": "4ba630d4-fc47-49ce-aa33-9dc9f67a1664",
   "metadata": {},
   "outputs": [],
   "source": []
  }
 ],
 "metadata": {
  "kernelspec": {
   "display_name": "Python 3 (ipykernel)",
   "language": "python",
   "name": "python3"
  },
  "language_info": {
   "codemirror_mode": {
    "name": "ipython",
    "version": 3
   },
   "file_extension": ".py",
   "mimetype": "text/x-python",
   "name": "python",
   "nbconvert_exporter": "python",
   "pygments_lexer": "ipython3",
   "version": "3.9.7"
  }
 },
 "nbformat": 4,
 "nbformat_minor": 5
}
