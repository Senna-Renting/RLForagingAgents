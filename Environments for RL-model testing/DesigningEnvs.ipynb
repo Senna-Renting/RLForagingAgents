{
 "cells": [
  {
   "cell_type": "markdown",
   "id": "ff31c55c-0640-406b-9fc9-49da4ef4cd97",
   "metadata": {},
   "source": [
    "# Designing environments\n",
    "\n",
    "This jupyter notebook is dedicated to creating simplistic environments that can be used to train RL-models in. I will create a separate python module for these environments once they are ready to be used."
   ]
  },
  {
   "cell_type": "code",
   "execution_count": 1,
   "id": "21ffe637-a4ba-4fcd-b928-e7bfd3c1f1b9",
   "metadata": {},
   "outputs": [],
   "source": [
    "# Import libraries\n",
    "import numpy as np"
   ]
  },
  {
   "cell_type": "markdown",
   "id": "88dc975f-d2f6-4cf6-bedd-ac7463c6b13c",
   "metadata": {
    "tags": []
   },
   "source": [
    "## A to B continuous world\n",
    "\n",
    "This is an environment where the agent is supposed to walk from A to B in a straight line."
   ]
  },
  {
   "cell_type": "code",
   "execution_count": 16,
   "id": "7e595a02-a317-4d02-82b3-76ab7d45058f",
   "metadata": {},
   "outputs": [],
   "source": [
    "class AToBEnvironment:\n",
    "    def __init__(self, width=10, height=10, A_loc=np.array([5,1]), B_loc=np.array([1,9]), radius=1):\n",
    "        self.width = width\n",
    "        self.height = height\n",
    "        self.A_loc = A_loc\n",
    "        self.B_loc = B_loc\n",
    "        self.radius = radius\n",
    "    def get_reward(self,X):\n",
    "        \"\"\"\n",
    "        The reward is sparse, 0 when not close to the target and 1 when you arrive at the target\n",
    "        \"\"\"\n",
    "        return int(np.sqrt(np.sum((self.B_loc-X)**2)) < self.radius)\n",
    "    def get_start_pos(self):\n",
    "        return self.A_loc\n",
    "        "
   ]
  },
  {
   "cell_type": "code",
   "execution_count": 17,
   "id": "a22689fb-c198-4ee6-bd1d-c5ceb76171cc",
   "metadata": {},
   "outputs": [
    {
     "name": "stdout",
     "output_type": "stream",
     "text": [
      "Does reward method work? True\n",
      "Start position: [5 1]\n"
     ]
    }
   ],
   "source": [
    "# Test A-to-B-environment\n",
    "env = AToBEnvironment()\n",
    "reward_check = env.get_reward(np.array([1,8.5])) == 1 and env.get_reward(np.array([1,7.5])) == 0\n",
    "print(f\"Does reward method work? {reward_check}\")\n",
    "print(f\"Start position: {env.get_start_pos()}\")"
   ]
  },
  {
   "cell_type": "code",
   "execution_count": null,
   "id": "4ba630d4-fc47-49ce-aa33-9dc9f67a1664",
   "metadata": {},
   "outputs": [],
   "source": []
  }
 ],
 "metadata": {
  "kernelspec": {
   "display_name": "Python 3 (ipykernel)",
   "language": "python",
   "name": "python3"
  },
  "language_info": {
   "codemirror_mode": {
    "name": "ipython",
    "version": 3
   },
   "file_extension": ".py",
   "mimetype": "text/x-python",
   "name": "python",
   "nbconvert_exporter": "python",
   "pygments_lexer": "ipython3",
   "version": "3.9.7"
  }
 },
 "nbformat": 4,
 "nbformat_minor": 5
}
